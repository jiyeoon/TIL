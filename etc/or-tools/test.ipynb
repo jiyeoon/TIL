{
 "cells": [
  {
   "cell_type": "code",
   "execution_count": 1,
   "metadata": {},
   "outputs": [
    {
     "name": "stdout",
     "output_type": "stream",
     "text": [
      "Collecting ortools\n",
      "  Downloading ortools-9.3.10497-cp37-cp37m-macosx_10_15_x86_64.whl (12.6 MB)\n",
      "\u001b[K     |████████████████████████████████| 12.6 MB 9.9 MB/s eta 0:00:01\n",
      "\u001b[?25hRequirement already satisfied: numpy>=1.13.3 in /Users/a1101497/opt/anaconda3/envs/study/lib/python3.7/site-packages (from ortools) (1.19.2)\n",
      "Collecting absl-py>=0.13\n",
      "  Downloading absl_py-1.1.0-py3-none-any.whl (123 kB)\n",
      "\u001b[K     |████████████████████████████████| 123 kB 35.3 MB/s eta 0:00:01\n",
      "\u001b[?25hCollecting protobuf>=3.19.4\n",
      "  Downloading protobuf-4.21.1-cp37-abi3-macosx_10_9_universal2.whl (483 kB)\n",
      "\u001b[K     |████████████████████████████████| 483 kB 26.2 MB/s eta 0:00:01\n",
      "\u001b[?25hInstalling collected packages: protobuf, absl-py, ortools\n",
      "\u001b[31mERROR: pip's dependency resolver does not currently take into account all the packages that are installed. This behaviour is the source of the following dependency conflicts.\n",
      "tensorflow 2.5.0 requires absl-py~=0.10, but you have absl-py 1.1.0 which is incompatible.\u001b[0m\n",
      "Successfully installed absl-py-1.1.0 ortools-9.3.10497 protobuf-4.21.1\n"
     ]
    }
   ],
   "source": [
    "!python -m pip install --upgrade --user ortools"
   ]
  },
  {
   "cell_type": "code",
   "execution_count": 2,
   "metadata": {},
   "outputs": [],
   "source": [
    "from ortools.linear_solver import pywraplp\n",
    "from ortools.init import pywrapinit"
   ]
  },
  {
   "cell_type": "code",
   "execution_count": 3,
   "metadata": {},
   "outputs": [],
   "source": [
    "# Create the linear solver with the GLOP backend.\n",
    "solver = pywraplp.Solver.CreateSolver('GLOP')"
   ]
  },
  {
   "cell_type": "code",
   "execution_count": 4,
   "metadata": {},
   "outputs": [
    {
     "name": "stdout",
     "output_type": "stream",
     "text": [
      "Number of variables =  2\n"
     ]
    }
   ],
   "source": [
    "# Create the variables x and y\n",
    "x = solver.NumVar(0, 1, 'x')\n",
    "y = solver.NumVar(0, 2, 'y')\n",
    "\n",
    "print(\"Number of variables = \", solver.NumVariables())"
   ]
  },
  {
   "cell_type": "code",
   "execution_count": 5,
   "metadata": {},
   "outputs": [
    {
     "name": "stdout",
     "output_type": "stream",
     "text": [
      "Number of constraints =  1\n"
     ]
    }
   ],
   "source": [
    "# Create linear constraint, 0 <= x + y <= 2\n",
    "ct = solver.Constraint(0, 2, 'ct')\n",
    "ct.SetCoefficient(x, 1)\n",
    "ct.SetCoefficient(y, 1)\n",
    "\n",
    "print(\"Number of constraints = \", solver.NumConstraints())"
   ]
  },
  {
   "cell_type": "code",
   "execution_count": 6,
   "metadata": {},
   "outputs": [],
   "source": [
    "# Create the objective function, 3 * x + y\n",
    "objective = solver.Objective()\n",
    "objective.SetCoefficient(x, 3)\n",
    "objective.SetCoefficient(y, 1)\n",
    "objective.SetMaximization()"
   ]
  },
  {
   "cell_type": "code",
   "execution_count": 7,
   "metadata": {},
   "outputs": [
    {
     "name": "stdout",
     "output_type": "stream",
     "text": [
      "Solution :\n",
      "Objective value =  4.0\n",
      "x =  1.0\n",
      "y =  1.0\n"
     ]
    }
   ],
   "source": [
    "solver.Solve()\n",
    "print(\"Solution :\")\n",
    "print(\"Objective value = \", objective.Value())\n",
    "print(\"x = \", x.solution_value())\n",
    "print(\"y = \", y.solution_value())"
   ]
  },
  {
   "cell_type": "code",
   "execution_count": null,
   "metadata": {},
   "outputs": [],
   "source": []
  }
 ],
 "metadata": {
  "interpreter": {
   "hash": "807fa55daafc4dd55299ec469926b2dbf7abbf01492f4cb45e7d3fd3e08c883b"
  },
  "kernelspec": {
   "display_name": "Python 3.7.9 ('study')",
   "language": "python",
   "name": "python3"
  },
  "language_info": {
   "codemirror_mode": {
    "name": "ipython",
    "version": 3
   },
   "file_extension": ".py",
   "mimetype": "text/x-python",
   "name": "python",
   "nbconvert_exporter": "python",
   "pygments_lexer": "ipython3",
   "version": "3.7.9"
  },
  "orig_nbformat": 4
 },
 "nbformat": 4,
 "nbformat_minor": 2
}
