{
 "cells": [
  {
   "cell_type": "code",
   "execution_count": 3,
   "metadata": {},
   "outputs": [
    {
     "name": "stdout",
     "output_type": "stream",
     "text": [
      "Collecting ortools\n",
      "  Using cached ortools-9.3.10497-cp37-cp37m-macosx_10_15_x86_64.whl (12.6 MB)\n",
      "Requirement already satisfied: numpy>=1.13.3 in /Users/a1101497/opt/anaconda3/envs/dynamic_pricing/lib/python3.7/site-packages (from ortools) (1.20.3)\n",
      "Collecting absl-py>=0.13\n",
      "  Using cached absl_py-1.1.0-py3-none-any.whl (123 kB)\n",
      "Collecting protobuf>=3.19.4\n",
      "  Using cached protobuf-4.21.1-cp37-abi3-macosx_10_9_universal2.whl (483 kB)\n",
      "Installing collected packages: protobuf, absl-py, ortools\n",
      "Successfully installed absl-py-1.1.0 ortools-9.3.10497 protobuf-4.21.1\n"
     ]
    }
   ],
   "source": [
    "!python -m pip install --upgrade --user ortools"
   ]
  },
  {
   "cell_type": "code",
   "execution_count": 4,
   "metadata": {},
   "outputs": [
    {
     "ename": "ModuleNotFoundError",
     "evalue": "No module named 'ortools'",
     "output_type": "error",
     "traceback": [
      "\u001b[0;31m---------------------------------------------------------------------------\u001b[0m",
      "\u001b[0;31mModuleNotFoundError\u001b[0m                       Traceback (most recent call last)",
      "\u001b[0;32m/var/folders/qh/y2br1r8j2ps17bw3qkqmxjrh0000gn/T/ipykernel_36889/3791643349.py\u001b[0m in \u001b[0;36m<module>\u001b[0;34m\u001b[0m\n\u001b[0;32m----> 1\u001b[0;31m \u001b[0;32mfrom\u001b[0m \u001b[0mortools\u001b[0m\u001b[0;34m.\u001b[0m\u001b[0mlinear_solver\u001b[0m \u001b[0;32mimport\u001b[0m \u001b[0mpywraplp\u001b[0m\u001b[0;34m\u001b[0m\u001b[0;34m\u001b[0m\u001b[0m\n\u001b[0m\u001b[1;32m      2\u001b[0m \u001b[0;32mfrom\u001b[0m \u001b[0mortools\u001b[0m\u001b[0;34m.\u001b[0m\u001b[0minit\u001b[0m \u001b[0;32mimport\u001b[0m \u001b[0mpywrapinit\u001b[0m\u001b[0;34m\u001b[0m\u001b[0;34m\u001b[0m\u001b[0m\n",
      "\u001b[0;31mModuleNotFoundError\u001b[0m: No module named 'ortools'"
     ]
    }
   ],
   "source": [
    "from ortools.linear_solver import pywraplp\n",
    "from ortools.init import pywrapinit"
   ]
  },
  {
   "cell_type": "code",
   "execution_count": 3,
   "metadata": {},
   "outputs": [],
   "source": [
    "# Create the linear solver with the GLOP backend.\n",
    "solver = pywraplp.Solver.CreateSolver('GLOP')"
   ]
  },
  {
   "cell_type": "code",
   "execution_count": 4,
   "metadata": {},
   "outputs": [
    {
     "name": "stdout",
     "output_type": "stream",
     "text": [
      "Number of variables =  2\n"
     ]
    }
   ],
   "source": [
    "# Create the variables x and y\n",
    "x = solver.NumVar(0, 1, 'x')\n",
    "y = solver.NumVar(0, 2, 'y')\n",
    "\n",
    "print(\"Number of variables = \", solver.NumVariables())"
   ]
  },
  {
   "cell_type": "code",
   "execution_count": 5,
   "metadata": {},
   "outputs": [
    {
     "name": "stdout",
     "output_type": "stream",
     "text": [
      "Number of constraints =  1\n"
     ]
    }
   ],
   "source": [
    "# Create linear constraint, 0 <= x + y <= 2\n",
    "ct = solver.Constraint(0, 2, 'ct')\n",
    "ct.SetCoefficient(x, 1)\n",
    "ct.SetCoefficient(y, 1)\n",
    "\n",
    "print(\"Number of constraints = \", solver.NumConstraints())"
   ]
  },
  {
   "cell_type": "code",
   "execution_count": 6,
   "metadata": {},
   "outputs": [],
   "source": [
    "# Create the objective function, 3 * x + y\n",
    "objective = solver.Objective()\n",
    "objective.SetCoefficient(x, 3)\n",
    "objective.SetCoefficient(y, 1)\n",
    "objective.SetMaximization()"
   ]
  },
  {
   "cell_type": "code",
   "execution_count": 7,
   "metadata": {},
   "outputs": [
    {
     "name": "stdout",
     "output_type": "stream",
     "text": [
      "Solution :\n",
      "Objective value =  4.0\n",
      "x =  1.0\n",
      "y =  1.0\n"
     ]
    }
   ],
   "source": [
    "solver.Solve()\n",
    "print(\"Solution :\")\n",
    "print(\"Objective value = \", objective.Value())\n",
    "print(\"x = \", x.solution_value())\n",
    "print(\"y = \", y.solution_value())"
   ]
  },
  {
   "cell_type": "code",
   "execution_count": 1,
   "metadata": {},
   "outputs": [],
   "source": [
    "path = \"/Users/a1101497/Documents/temp_data/or_tools_sample_data.pkl\"\n",
    "\n",
    "import pandas as pd\n",
    "df = pd.read_pickle(path)"
   ]
  },
  {
   "cell_type": "code",
   "execution_count": 2,
   "metadata": {},
   "outputs": [
    {
     "data": {
      "text/html": [
       "<div>\n",
       "<style scoped>\n",
       "    .dataframe tbody tr th:only-of-type {\n",
       "        vertical-align: middle;\n",
       "    }\n",
       "\n",
       "    .dataframe tbody tr th {\n",
       "        vertical-align: top;\n",
       "    }\n",
       "\n",
       "    .dataframe thead th {\n",
       "        text-align: right;\n",
       "    }\n",
       "</style>\n",
       "<table border=\"1\" class=\"dataframe\">\n",
       "  <thead>\n",
       "    <tr style=\"text-align: right;\">\n",
       "      <th></th>\n",
       "      <th>PRD_NO</th>\n",
       "      <th>pred</th>\n",
       "      <th>real_IMPRS</th>\n",
       "      <th>sel_prc</th>\n",
       "      <th>sel_prc_round</th>\n",
       "      <th>corr_val</th>\n",
       "      <th>sel_prc_icvr</th>\n",
       "      <th>sel_prc_icvr_re</th>\n",
       "      <th>pred_ord_no_round</th>\n",
       "      <th>ORD_CNT</th>\n",
       "      <th>prd_ORD_CNT</th>\n",
       "      <th>diff</th>\n",
       "      <th>prd_diff</th>\n",
       "    </tr>\n",
       "  </thead>\n",
       "  <tbody>\n",
       "    <tr>\n",
       "      <th>0</th>\n",
       "      <td>1091095166</td>\n",
       "      <td>19.714285</td>\n",
       "      <td>9</td>\n",
       "      <td>15490</td>\n",
       "      <td>15500.0</td>\n",
       "      <td>-0.257966</td>\n",
       "      <td>0.062114</td>\n",
       "      <td>0.062114</td>\n",
       "      <td>1</td>\n",
       "      <td>1</td>\n",
       "      <td>1</td>\n",
       "      <td>0</td>\n",
       "      <td>0</td>\n",
       "    </tr>\n",
       "    <tr>\n",
       "      <th>1</th>\n",
       "      <td>1091095166</td>\n",
       "      <td>19.714285</td>\n",
       "      <td>9</td>\n",
       "      <td>15490</td>\n",
       "      <td>15500.0</td>\n",
       "      <td>-0.095149</td>\n",
       "      <td>0.070175</td>\n",
       "      <td>0.070175</td>\n",
       "      <td>1</td>\n",
       "      <td>1</td>\n",
       "      <td>1</td>\n",
       "      <td>0</td>\n",
       "      <td>0</td>\n",
       "    </tr>\n",
       "    <tr>\n",
       "      <th>2</th>\n",
       "      <td>1293071653</td>\n",
       "      <td>33.000000</td>\n",
       "      <td>34</td>\n",
       "      <td>14900</td>\n",
       "      <td>14900.0</td>\n",
       "      <td>0.170446</td>\n",
       "      <td>0.200000</td>\n",
       "      <td>0.200000</td>\n",
       "      <td>7</td>\n",
       "      <td>1</td>\n",
       "      <td>1</td>\n",
       "      <td>-6</td>\n",
       "      <td>-6</td>\n",
       "    </tr>\n",
       "    <tr>\n",
       "      <th>3</th>\n",
       "      <td>2133718643</td>\n",
       "      <td>28.285715</td>\n",
       "      <td>33</td>\n",
       "      <td>8290</td>\n",
       "      <td>8300.0</td>\n",
       "      <td>-0.234577</td>\n",
       "      <td>0.416667</td>\n",
       "      <td>0.416667</td>\n",
       "      <td>12</td>\n",
       "      <td>21</td>\n",
       "      <td>2</td>\n",
       "      <td>9</td>\n",
       "      <td>-10</td>\n",
       "    </tr>\n",
       "    <tr>\n",
       "      <th>4</th>\n",
       "      <td>2137420743</td>\n",
       "      <td>144.000000</td>\n",
       "      <td>145</td>\n",
       "      <td>5500</td>\n",
       "      <td>5500.0</td>\n",
       "      <td>0.010129</td>\n",
       "      <td>0.119907</td>\n",
       "      <td>0.119907</td>\n",
       "      <td>17</td>\n",
       "      <td>1</td>\n",
       "      <td>1</td>\n",
       "      <td>-16</td>\n",
       "      <td>-16</td>\n",
       "    </tr>\n",
       "  </tbody>\n",
       "</table>\n",
       "</div>"
      ],
      "text/plain": [
       "       PRD_NO        pred  real_IMPRS sel_prc  sel_prc_round  corr_val  \\\n",
       "0  1091095166   19.714285           9   15490        15500.0 -0.257966   \n",
       "1  1091095166   19.714285           9   15490        15500.0 -0.095149   \n",
       "2  1293071653   33.000000          34   14900        14900.0  0.170446   \n",
       "3  2133718643   28.285715          33    8290         8300.0 -0.234577   \n",
       "4  2137420743  144.000000         145    5500         5500.0  0.010129   \n",
       "\n",
       "   sel_prc_icvr  sel_prc_icvr_re  pred_ord_no_round  ORD_CNT  prd_ORD_CNT  \\\n",
       "0      0.062114         0.062114                  1        1            1   \n",
       "1      0.070175         0.070175                  1        1            1   \n",
       "2      0.200000         0.200000                  7        1            1   \n",
       "3      0.416667         0.416667                 12       21            2   \n",
       "4      0.119907         0.119907                 17        1            1   \n",
       "\n",
       "   diff  prd_diff  \n",
       "0     0         0  \n",
       "1     0         0  \n",
       "2    -6        -6  \n",
       "3     9       -10  \n",
       "4   -16       -16  "
      ]
     },
     "execution_count": 2,
     "metadata": {},
     "output_type": "execute_result"
    }
   ],
   "source": [
    "df.head()"
   ]
  },
  {
   "cell_type": "code",
   "execution_count": 7,
   "metadata": {},
   "outputs": [],
   "source": [
    "def get_pred_gmv(sel_prc, pred_ord):\n",
    "    return int(sel_prc) * int(pred_ord)\n",
    "\n",
    "df['pred_gmv'] = df.apply(lambda x : get_pred_gmv(x.sel_prc, x.pred_ord_no_round), axis=1)"
   ]
  },
  {
   "cell_type": "code",
   "execution_count": 8,
   "metadata": {},
   "outputs": [
    {
     "data": {
      "text/html": [
       "<div>\n",
       "<style scoped>\n",
       "    .dataframe tbody tr th:only-of-type {\n",
       "        vertical-align: middle;\n",
       "    }\n",
       "\n",
       "    .dataframe tbody tr th {\n",
       "        vertical-align: top;\n",
       "    }\n",
       "\n",
       "    .dataframe thead th {\n",
       "        text-align: right;\n",
       "    }\n",
       "</style>\n",
       "<table border=\"1\" class=\"dataframe\">\n",
       "  <thead>\n",
       "    <tr style=\"text-align: right;\">\n",
       "      <th></th>\n",
       "      <th>PRD_NO</th>\n",
       "      <th>pred</th>\n",
       "      <th>real_IMPRS</th>\n",
       "      <th>sel_prc</th>\n",
       "      <th>sel_prc_round</th>\n",
       "      <th>corr_val</th>\n",
       "      <th>sel_prc_icvr</th>\n",
       "      <th>sel_prc_icvr_re</th>\n",
       "      <th>pred_ord_no_round</th>\n",
       "      <th>ORD_CNT</th>\n",
       "      <th>prd_ORD_CNT</th>\n",
       "      <th>diff</th>\n",
       "      <th>prd_diff</th>\n",
       "      <th>pred_gmv</th>\n",
       "    </tr>\n",
       "  </thead>\n",
       "  <tbody>\n",
       "    <tr>\n",
       "      <th>0</th>\n",
       "      <td>1091095166</td>\n",
       "      <td>19.714285</td>\n",
       "      <td>9</td>\n",
       "      <td>15490</td>\n",
       "      <td>15500.0</td>\n",
       "      <td>-0.257966</td>\n",
       "      <td>0.062114</td>\n",
       "      <td>0.062114</td>\n",
       "      <td>1</td>\n",
       "      <td>1</td>\n",
       "      <td>1</td>\n",
       "      <td>0</td>\n",
       "      <td>0</td>\n",
       "      <td>15490</td>\n",
       "    </tr>\n",
       "    <tr>\n",
       "      <th>1</th>\n",
       "      <td>1091095166</td>\n",
       "      <td>19.714285</td>\n",
       "      <td>9</td>\n",
       "      <td>15490</td>\n",
       "      <td>15500.0</td>\n",
       "      <td>-0.095149</td>\n",
       "      <td>0.070175</td>\n",
       "      <td>0.070175</td>\n",
       "      <td>1</td>\n",
       "      <td>1</td>\n",
       "      <td>1</td>\n",
       "      <td>0</td>\n",
       "      <td>0</td>\n",
       "      <td>15490</td>\n",
       "    </tr>\n",
       "    <tr>\n",
       "      <th>2</th>\n",
       "      <td>1293071653</td>\n",
       "      <td>33.000000</td>\n",
       "      <td>34</td>\n",
       "      <td>14900</td>\n",
       "      <td>14900.0</td>\n",
       "      <td>0.170446</td>\n",
       "      <td>0.200000</td>\n",
       "      <td>0.200000</td>\n",
       "      <td>7</td>\n",
       "      <td>1</td>\n",
       "      <td>1</td>\n",
       "      <td>-6</td>\n",
       "      <td>-6</td>\n",
       "      <td>104300</td>\n",
       "    </tr>\n",
       "    <tr>\n",
       "      <th>3</th>\n",
       "      <td>2133718643</td>\n",
       "      <td>28.285715</td>\n",
       "      <td>33</td>\n",
       "      <td>8290</td>\n",
       "      <td>8300.0</td>\n",
       "      <td>-0.234577</td>\n",
       "      <td>0.416667</td>\n",
       "      <td>0.416667</td>\n",
       "      <td>12</td>\n",
       "      <td>21</td>\n",
       "      <td>2</td>\n",
       "      <td>9</td>\n",
       "      <td>-10</td>\n",
       "      <td>99480</td>\n",
       "    </tr>\n",
       "    <tr>\n",
       "      <th>4</th>\n",
       "      <td>2137420743</td>\n",
       "      <td>144.000000</td>\n",
       "      <td>145</td>\n",
       "      <td>5500</td>\n",
       "      <td>5500.0</td>\n",
       "      <td>0.010129</td>\n",
       "      <td>0.119907</td>\n",
       "      <td>0.119907</td>\n",
       "      <td>17</td>\n",
       "      <td>1</td>\n",
       "      <td>1</td>\n",
       "      <td>-16</td>\n",
       "      <td>-16</td>\n",
       "      <td>93500</td>\n",
       "    </tr>\n",
       "  </tbody>\n",
       "</table>\n",
       "</div>"
      ],
      "text/plain": [
       "       PRD_NO        pred  real_IMPRS sel_prc  sel_prc_round  corr_val  \\\n",
       "0  1091095166   19.714285           9   15490        15500.0 -0.257966   \n",
       "1  1091095166   19.714285           9   15490        15500.0 -0.095149   \n",
       "2  1293071653   33.000000          34   14900        14900.0  0.170446   \n",
       "3  2133718643   28.285715          33    8290         8300.0 -0.234577   \n",
       "4  2137420743  144.000000         145    5500         5500.0  0.010129   \n",
       "\n",
       "   sel_prc_icvr  sel_prc_icvr_re  pred_ord_no_round  ORD_CNT  prd_ORD_CNT  \\\n",
       "0      0.062114         0.062114                  1        1            1   \n",
       "1      0.070175         0.070175                  1        1            1   \n",
       "2      0.200000         0.200000                  7        1            1   \n",
       "3      0.416667         0.416667                 12       21            2   \n",
       "4      0.119907         0.119907                 17        1            1   \n",
       "\n",
       "   diff  prd_diff  pred_gmv  \n",
       "0     0         0     15490  \n",
       "1     0         0     15490  \n",
       "2    -6        -6    104300  \n",
       "3     9       -10     99480  \n",
       "4   -16       -16     93500  "
      ]
     },
     "execution_count": 8,
     "metadata": {},
     "output_type": "execute_result"
    }
   ],
   "source": [
    "df.head()"
   ]
  },
  {
   "cell_type": "code",
   "execution_count": 9,
   "metadata": {},
   "outputs": [
    {
     "data": {
      "text/plain": [
       "895947032.0"
      ]
     },
     "execution_count": 9,
     "metadata": {},
     "output_type": "execute_result"
    }
   ],
   "source": [
    "goal = df['pred_gmv'].sum() * 0.8\n",
    "goal"
   ]
  },
  {
   "cell_type": "code",
   "execution_count": 10,
   "metadata": {},
   "outputs": [
    {
     "ename": "ModuleNotFoundError",
     "evalue": "No module named 'ortools'",
     "output_type": "error",
     "traceback": [
      "\u001b[0;31m---------------------------------------------------------------------------\u001b[0m",
      "\u001b[0;31mModuleNotFoundError\u001b[0m                       Traceback (most recent call last)",
      "\u001b[0;32m<ipython-input-10-d999baf7fb77>\u001b[0m in \u001b[0;36m<module>\u001b[0;34m\u001b[0m\n\u001b[0;32m----> 1\u001b[0;31m \u001b[0;32mfrom\u001b[0m \u001b[0mortools\u001b[0m\u001b[0;34m.\u001b[0m\u001b[0malgorithms\u001b[0m \u001b[0;32mimport\u001b[0m \u001b[0mpywrapknapsack_solver\u001b[0m\u001b[0;34m\u001b[0m\u001b[0;34m\u001b[0m\u001b[0m\n\u001b[0m",
      "\u001b[0;31mModuleNotFoundError\u001b[0m: No module named 'ortools'"
     ]
    }
   ],
   "source": [
    "from ortools.algorithms import pywrapknapsack_solver"
   ]
  },
  {
   "cell_type": "code",
   "execution_count": 12,
   "metadata": {},
   "outputs": [],
   "source": [
    "!pip list | grep ortools"
   ]
  },
  {
   "cell_type": "code",
   "execution_count": null,
   "metadata": {},
   "outputs": [],
   "source": []
  }
 ],
 "metadata": {
  "interpreter": {
   "hash": "49be07e0b48c2e6df97db382686db46365fe2a82ead1a393b5ae3e3716adb543"
  },
  "kernelspec": {
   "display_name": "Python 3.7.11 ('dynamic_pricing')",
   "language": "python",
   "name": "python3"
  },
  "language_info": {
   "codemirror_mode": {
    "name": "ipython",
    "version": 3
   },
   "file_extension": ".py",
   "mimetype": "text/x-python",
   "name": "python",
   "nbconvert_exporter": "python",
   "pygments_lexer": "ipython3",
   "version": "3.7.11"
  },
  "orig_nbformat": 4
 },
 "nbformat": 4,
 "nbformat_minor": 2
}
