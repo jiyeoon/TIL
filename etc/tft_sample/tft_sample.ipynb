{
 "cells": [
  {
   "cell_type": "code",
   "execution_count": 1,
   "metadata": {},
   "outputs": [],
   "source": [
    "import os\n",
    "import sys\n",
    "import random\n",
    "import argparse\n",
    "from pathlib import Path\n",
    "\n",
    "import pandas as pd\n",
    "import numpy as np\n",
    "import torch\n",
    "import pytorch_lightning as pl\n",
    "\n",
    "from pytorch_forecasting.data import TimeSeriesDataSet, GroupNormalizer\n",
    "from pytorch_lightning.loggers import TensorBoardLogger\n",
    "from pytorch_lightning.callbacks import ModelCheckpoint, EarlyStopping, LearningRateMonitor\n",
    "from pytorch_forecasting.metrics import SMAPE\n",
    "from pytorch_forecasting.models import TemporalFusionTransformer"
   ]
  },
  {
   "cell_type": "markdown",
   "metadata": {},
   "source": [
    "\n",
    "## TFT 샘플 코드\n",
    "\n",
    "코드 : <https://dacon.io/competitions/official/235736/codeshare/2897>\n",
    "\n",
    "- `num` : 건물 번호\n",
    "- `date_time` : 시간\n",
    "- `전력사용량(kWh)` : 전력 사용량\n",
    "- 기온\n",
    "- 풍속\n",
    "- 습도\n",
    "- 강수량\n",
    "- 일조\n",
    "- 비전기냉방설비운영\n",
    "- 태양광 보유"
   ]
  },
  {
   "cell_type": "code",
   "execution_count": 9,
   "metadata": {
    "jupyter": {
     "source_hidden": true
    }
   },
   "outputs": [],
   "source": [
    "#category columns\n",
    "CATE_COLS = ['num', 'mgrp', 'holiday', 'dow', 'cluster', 'hot', 'nelec_cool_flag', 'solar_flag']\n",
    "\n",
    "# building cluster based on kmeans\n",
    "CLUSTER = {\n",
    "    0: [19, 20, 21, 49, 50, 51],\n",
    "    1: [1, 5, 9, 34],\n",
    "    2: [4, 10, 11, 12, 28, 29, 30, 36, 40, 41, 42, 59, 60],\n",
    "    3: [2, 3, 6, 7, 8, 13, 14, 15, 16, 17, 18, 22, 23, 24, 25, 26, 27, 31, 32, 33, 35, 37, 38, 39, 43, 44, 45, 46, 47, 48, 52, 53, 54, 55, 56, 57, 58],\n",
    "}\n",
    "\n",
    "# length of training data for prediction (5 weeks)\n",
    "ENCODER_LENGTH_IN_WEEKS = 5\n",
    "\n",
    "# learning rate determined by a cv run with train data less 1 trailing week as validation \n",
    "LRS = [0.05099279397234306, 0.05099279397234306, 0.05099279397234306, 0.05099279397234306,\n",
    "       0.05099279397234306, 0.05099279397234306, 0.05099279397234306, 0.05099279397234306,\n",
    "       0.05099279397234306, 0.05099279397234306, 0.05099279397234306, 0.05099279397234306,\n",
    "       0.05099279397234306, 0.05099279397234306, 0.05099279397234306, 0.05099279397234306,\n",
    "       0.05099279397234306, 0.05099279397234306, 0.05099279397234306, 0.05099279397234306,\n",
    "       0.05099279397234306, 0.05099279397234306, 0.05099279397234306, 0.05099279397234306,\n",
    "       0.05099279397234306, 0.05099279397234306, 0.05099279397234306, 0.05099279397234306,\n",
    "       0.05099279397234306, 0.05099279397234306, 0.05099279397234306, 0.05099279397234306,\n",
    "       0.05099279397234306, 0.05099279397234306, 0.05099279397234306, 0.05099279397234306,\n",
    "       0.05099279397234306, 0.05099279397234306, 0.05099279397234306, 0.05099279397234306,\n",
    "       0.05099279397234306, 0.05099279397234306, 0.05099279397234306, 0.05099279397234306,\n",
    "       0.05099279397234306, 0.05099279397234306, 0.05099279397234306, 0.05099279397234306,\n",
    "       0.05099279397234306 , 0.05099279397234306, 0.05099279397234306, 0.05099279397234306,\n",
    "       0.005099279397234306, 0.005099279397234306, 0.005099279397234306, 0.005099279397234306,\n",
    "       0.005099279397234306, 0.005099279397234306, 0.005099279397234306, 0.005099279397234306,\n",
    "       0.005099279397234306, 0.0005099279397234307, 0.0005099279397234307, 0.0005099279397234307,\n",
    "       0.0005099279397234307, 0.0005099279397234307, 0.0005099279397234307]\n",
    "\n",
    "# number of epochs found in cv run\n",
    "NUM_EPOCHS = 66\n",
    "\n",
    "# number of seeds to use\n",
    "NUM_SEEDS = 10\n",
    "\n",
    "BATCH_SIZE = 128\n",
    "\n",
    "# hyper parameters determined by cv runs with train data less 1 trailing week as validation \n",
    "PARAMS = {\n",
    "    'gradient_clip_val': 0.9658579636307634,\n",
    "    'hidden_size': 180,\n",
    "    'dropout': 0.19610151695402608,\n",
    "    'hidden_continuous_size': 90,\n",
    "    'attention_head_size': 4,\n",
    "    'learning_rate': 0.08\n",
    "}"
   ]
  },
  {
   "cell_type": "code",
   "execution_count": 4,
   "metadata": {},
   "outputs": [],
   "source": [
    "DATA_ROOT = '/energy'\n",
    "CKPTROOT = DATA_ROOT + '/ckpts'\n",
    "CSVROOT = DATA_ROOT + '/csvs'\n",
    "SUBFN = DATA_ROOT + '/sub.csv'\n",
    "LOGDIR = DATA_ROOT + '/logs'"
   ]
  },
  {
   "cell_type": "code",
   "execution_count": 2,
   "metadata": {},
   "outputs": [],
   "source": [
    "def seed_all(seed):\n",
    "    random.seed(seed)\n",
    "    torch.manual_seed(seed)\n",
    "    torch.cuda.manual_seed_all(seed)\n",
    "    np.random.seed(seed)\n",
    "    os.environ['PYTHONHASHSEED'] = str(seed)\n",
    "    torch.backends.cudnn.deterministic = True\n",
    "    torch.backends.cudnn.benchmark = False"
   ]
  },
  {
   "cell_type": "code",
   "execution_count": 5,
   "metadata": {},
   "outputs": [],
   "source": [
    "def _data_prep(df):\n",
    "    df['datetime'] = pd.to_datetime(df['datetime'])\n",
    "    df['hour'] = df['datetime'].dt.hour\n",
    "    df['dow'] = df['datetime'].dt.weekday\n",
    "    df['date'] = df['datetime'].dt.date.astype('str')\n",
    "    df['day'] = df['datetime'].dt.day\n",
    "    df['month'] = df['datetime'].dt.month\n",
    "    \n",
    "    # FEATURE : SAT, SUN and special holidays flagged as 1 in 'holiday' flag\n",
    "    df['holiday'] = df['dow'].isin([5, 6]).astype(int)\n",
    "    special_days = ['2020-06-06', '2020-08-15', '2020-08-17']\n",
    "    df.loc[df.date.isin(special_days), 'holiday'] = 1\n",
    "    \n",
    "    # FEATURE : 'hot' flag when the next day is holiday\n",
    "    hot = df.groupby('date').first()['holiday'].shift(-1).fillna(0).astype(int)\n",
    "    hot = hot.to_frame().reset_index().rename({'holiday' : 'hot'}, axis=1)\n",
    "    df = df.merge(hot, on='date', how='left')\n",
    "    \n",
    "    # FEATURE : 'cumhol' - how many days left in 연휴\n",
    "    h = (df.groupby('date').first()['holiday'] != 0).iloc[::-1]\n",
    "    df1 = h.cumsum() - h.cumsum().where(~h).ffill().fillna(0).astype(int).iloc[::-1]\n",
    "    df1 = df1.to_frame().reset_index().rename({'holiday' : 'cumhol'}, axis=1)\n",
    "    df = df.merge(df1, on='date', how='left')\n",
    "    \n",
    "    return df"
   ]
  },
  {
   "cell_type": "code",
   "execution_count": 6,
   "metadata": {},
   "outputs": [],
   "source": [
    "# read data, process date and assign cluster number\n",
    "\n",
    "def _read_df():\n",
    "    train_columns = ['num', 'datetime', 'target', 'temperature', 'windspeed', 'humidity', \\\n",
    "                    'precipitation', 'insolation', 'nelec_cool_flag', 'solar_flag']\n",
    "    test_columns = [c for c in train_columns if c != 'target']\n",
    "    \n",
    "    train_df = pd.read_csv(DATAROOT + '/train.csv', skiprows=[0], names=train_columns)\n",
    "    test_df = pd.read_csv(DATAROOT + '/test.csv', skiprows=[0], names=test_columns)\n",
    "    \n",
    "    _sz = train_df.shape[0]\n",
    "    \n",
    "    df = pd.concat([train_df, test_df])\n",
    "    \n",
    "    for k, nums in CLUSTER.items():\n",
    "        df.loc[df.num.isin(nums), 'cluster'] = k\n",
    "    \n",
    "    df = _date_prep(df)\n",
    "    \n",
    "    return df.iloc[:_sz].copy(), df.iloc[_sz:].copy()"
   ]
  },
  {
   "cell_type": "code",
   "execution_count": null,
   "metadata": {},
   "outputs": [],
   "source": [
    "# add aggregate(mean) target feature for 'cluster', 'building', 'mgrp' per date\n",
    "def add_feats(df):\n",
    "    df.reset_index(drop=True, inplace=True)\n",
    "    \n",
    "    cols = ['target']\n",
    "    stats = ['mean']\n",
    "    \n",
    "    # target null in test set to n"
   ]
  }
 ],
 "metadata": {
  "kernelspec": {
   "display_name": "Python 3",
   "language": "python",
   "name": "python3"
  },
  "language_info": {
   "codemirror_mode": {
    "name": "ipython",
    "version": 3
   },
   "file_extension": ".py",
   "mimetype": "text/x-python",
   "name": "python",
   "nbconvert_exporter": "python",
   "pygments_lexer": "ipython3",
   "version": "3.8.5"
  },
  "vscode": {
   "interpreter": {
    "hash": "31f2aee4e71d21fbe5cf8b01ff0e069b9275f58929596ceb00d14d90e3e16cd6"
   }
  }
 },
 "nbformat": 4,
 "nbformat_minor": 4
}
