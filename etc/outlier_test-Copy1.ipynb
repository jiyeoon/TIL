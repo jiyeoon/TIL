{
 "cells": [
  {
   "cell_type": "code",
   "execution_count": 1,
   "source": [
    "import os\n",
    "import numpy as np\n",
    "import pandas as pd\n",
    "\n",
    "from prophet import Prophet"
   ],
   "outputs": [],
   "metadata": {}
  },
  {
   "cell_type": "code",
   "execution_count": 2,
   "source": [
    "df = pd.read_csv('./data/outlier_sample.csv')\n",
    "df.head()"
   ],
   "outputs": [
    {
     "output_type": "execute_result",
     "data": {
      "text/html": [
       "<div>\n",
       "<style scoped>\n",
       "    .dataframe tbody tr th:only-of-type {\n",
       "        vertical-align: middle;\n",
       "    }\n",
       "\n",
       "    .dataframe tbody tr th {\n",
       "        vertical-align: top;\n",
       "    }\n",
       "\n",
       "    .dataframe thead th {\n",
       "        text-align: right;\n",
       "    }\n",
       "</style>\n",
       "<table border=\"1\" class=\"dataframe\">\n",
       "  <thead>\n",
       "    <tr style=\"text-align: right;\">\n",
       "      <th></th>\n",
       "      <th>Unnamed: 0</th>\n",
       "      <th>ds</th>\n",
       "      <th>y</th>\n",
       "      <th>avg_prc</th>\n",
       "    </tr>\n",
       "  </thead>\n",
       "  <tbody>\n",
       "    <tr>\n",
       "      <th>0</th>\n",
       "      <td>0</td>\n",
       "      <td>2020-07-01</td>\n",
       "      <td>0.0</td>\n",
       "      <td>99900.0</td>\n",
       "    </tr>\n",
       "    <tr>\n",
       "      <th>1</th>\n",
       "      <td>1</td>\n",
       "      <td>2020-07-02</td>\n",
       "      <td>0.0</td>\n",
       "      <td>99900.0</td>\n",
       "    </tr>\n",
       "    <tr>\n",
       "      <th>2</th>\n",
       "      <td>2</td>\n",
       "      <td>2020-07-03</td>\n",
       "      <td>0.0</td>\n",
       "      <td>99900.0</td>\n",
       "    </tr>\n",
       "    <tr>\n",
       "      <th>3</th>\n",
       "      <td>3</td>\n",
       "      <td>2020-07-04</td>\n",
       "      <td>0.0</td>\n",
       "      <td>99900.0</td>\n",
       "    </tr>\n",
       "    <tr>\n",
       "      <th>4</th>\n",
       "      <td>4</td>\n",
       "      <td>2020-07-05</td>\n",
       "      <td>0.0</td>\n",
       "      <td>99900.0</td>\n",
       "    </tr>\n",
       "  </tbody>\n",
       "</table>\n",
       "</div>"
      ],
      "text/plain": [
       "   Unnamed: 0          ds    y  avg_prc\n",
       "0           0  2020-07-01  0.0  99900.0\n",
       "1           1  2020-07-02  0.0  99900.0\n",
       "2           2  2020-07-03  0.0  99900.0\n",
       "3           3  2020-07-04  0.0  99900.0\n",
       "4           4  2020-07-05  0.0  99900.0"
      ]
     },
     "metadata": {},
     "execution_count": 2
    }
   ],
   "metadata": {}
  },
  {
   "cell_type": "code",
   "execution_count": 4,
   "source": [
    "df['avg_prc'] = df['avg_prc'] / df['avg_prc'].max() * 100\n",
    "df['cap'] = 100\n",
    "df['floor'] = 0"
   ],
   "outputs": [],
   "metadata": {}
  },
  {
   "cell_type": "code",
   "execution_count": 5,
   "source": [
    "# holiday 처리\n",
    "\n",
    "day11 = {\n",
    "    'holiday' : '11day',\n",
    "    'ds' : ['20{}-{}-11'.format(i, j) for i in range(19, 25) for j in range(1, 13)],\n",
    "    'lower_window' : 0,\n",
    "    'upper_window' : 0\n",
    "}\n",
    "new_years_day = {\n",
    "    'holiday' : 'new_years_day',\n",
    "    'ds' : ['2020-01-25', '2021-02-12'],\n",
    "    'lower_window' : -2,\n",
    "    'upper_window' : 2\n",
    "}\n",
    "chuseok = {\n",
    "    'holiday' : 'chuseok',\n",
    "    'ds' : ['2020-10-01', '2021-09-12'],\n",
    "    'lower_window' : -2,\n",
    "    'upper_window' : 2\n",
    "}\n",
    "\n",
    "q3 = df['y'].quantile(q=0.75)\n",
    "iqr = q3 - df['y'].quantile(q=0.25)\n",
    "thrshd = q3 + (1.5 * iqr)\n",
    "tmp = df[df.y > thrshd]\n",
    "outlier_ds = tmp['ds'].astype(str).to_list()\n",
    "\n",
    "outlier = {\n",
    "    'holiday' : 'outlier',\n",
    "    'ds' : outlier_ds,\n",
    "    'lower_window' : 0,\n",
    "    'upper_window' : 0\n",
    "}\n",
    "\n",
    "holiday = [pd.DataFrame(h) for h in [day11, new_years_day, chuseok, outlier]]\n",
    "holidays = pd.concat(holiday)"
   ],
   "outputs": [],
   "metadata": {}
  },
  {
   "cell_type": "code",
   "execution_count": 7,
   "source": [
    "train = df[:-7]\n",
    "test = df[-7:]"
   ],
   "outputs": [],
   "metadata": {}
  },
  {
   "cell_type": "code",
   "execution_count": 8,
   "source": [
    "model = Prophet(\n",
    "    growth = 'logistic',\n",
    "    holidays=holidays\n",
    ")\n",
    "model.add_country_holidays(country_name='KR')\n",
    "model.add_seasonality(name='monthly', period=30.5, fourier_order=5)\n",
    "model.add_regressor('avg_prc', standardize=False)\n",
    "model.fit(train)"
   ],
   "outputs": [
    {
     "output_type": "stream",
     "name": "stderr",
     "text": [
      "INFO:prophet:Disabling yearly seasonality. Run prophet with yearly_seasonality=True to override this.\n",
      "INFO:prophet:Disabling daily seasonality. Run prophet with daily_seasonality=True to override this.\n"
     ]
    },
    {
     "output_type": "stream",
     "name": "stdout",
     "text": [
      "Initial log joint probability = -9.07568\n"
     ]
    },
    {
     "output_type": "execute_result",
     "data": {
      "text/plain": [
       "<prophet.forecaster.Prophet at 0x7f8da5261e90>"
      ]
     },
     "metadata": {},
     "execution_count": 8
    },
    {
     "output_type": "stream",
     "name": "stdout",
     "text": [
      "    Iter      log prob        ||dx||      ||grad||       alpha      alpha0  # evals  Notes \n",
      "      99       1219.92     0.0340433       19440.2           1           1      147   \n",
      "    Iter      log prob        ||dx||      ||grad||       alpha      alpha0  # evals  Notes \n",
      "     199       1229.21    0.00286871         37652      0.3793     0.03793      282   \n",
      "    Iter      log prob        ||dx||      ||grad||       alpha      alpha0  # evals  Notes \n",
      "     299       1271.12     0.0220367       1248.98      0.4222           1      436   \n",
      "    Iter      log prob        ||dx||      ||grad||       alpha      alpha0  # evals  Notes \n",
      "     399       1283.25    0.00482625       14449.1      0.3542           1      587   \n",
      "    Iter      log prob        ||dx||      ||grad||       alpha      alpha0  # evals  Notes \n",
      "     499       1287.83   9.11875e-05       489.112   0.0006406           1      790   \n",
      "    Iter      log prob        ||dx||      ||grad||       alpha      alpha0  # evals  Notes \n",
      "     599       1290.58   0.000682089       1874.16       4.491      0.4491      945   \n",
      "    Iter      log prob        ||dx||      ||grad||       alpha      alpha0  # evals  Notes \n",
      "     699        1293.4    4.9495e-05       203.847           1           1     1120   \n",
      "    Iter      log prob        ||dx||      ||grad||       alpha      alpha0  # evals  Notes \n",
      "     799       1299.66   0.000827931       3187.04      0.2259           1     1272   \n",
      "    Iter      log prob        ||dx||      ||grad||       alpha      alpha0  # evals  Notes \n",
      "     899       1302.72    0.00296405       5790.77           1           1     1431   \n",
      "    Iter      log prob        ||dx||      ||grad||       alpha      alpha0  # evals  Notes \n",
      "     961       1303.47   8.44111e-07       802.947   4.656e-09       0.001     1588  LS failed, Hessian reset \n",
      "     999       1305.83    0.00303043       980.859           1           1     1678   \n",
      "    Iter      log prob        ||dx||      ||grad||       alpha      alpha0  # evals  Notes \n",
      "    1030       1306.26   2.78076e-07       123.544   2.215e-10       0.001     1791  LS failed, Hessian reset \n",
      "    1077       1306.75    8.3131e-08       121.578   2.472e-10       0.001     1901  LS failed, Hessian reset \n",
      "    1099       1306.93    0.00471253       4880.71       6.344     0.06344     1936   \n",
      "    Iter      log prob        ||dx||      ||grad||       alpha      alpha0  # evals  Notes \n",
      "    1172       1307.67   2.44078e-07       242.775   2.255e-10       0.001     2121  LS failed, Hessian reset \n",
      "    1194       1308.19    2.3368e-07       429.658   1.118e-09       0.001     2198  LS failed, Hessian reset \n",
      "    1199       1308.46   0.000334319       135.366           1           1     2207   \n",
      "    Iter      log prob        ||dx||      ||grad||       alpha      alpha0  # evals  Notes \n",
      "    1203       1308.47   1.34754e-07       155.187   2.299e-10       0.001     2268  LS failed, Hessian reset \n",
      "    1227       1308.66   5.65653e-08       132.117   4.276e-10       0.001     2343  LS failed, Hessian reset \n",
      "    1236       1308.72   2.15825e-07        312.62   1.987e-09       0.001     2402  LS failed, Hessian reset \n",
      "    1299       1310.14     0.0132872        7570.7      0.2855           1     2535   \n",
      "    Iter      log prob        ||dx||      ||grad||       alpha      alpha0  # evals  Notes \n",
      "    1304        1310.3   5.44988e-08       114.785   3.071e-10       0.001     2593  LS failed, Hessian reset \n",
      "Optimization terminated normally: \n",
      "  Convergence detected: relative gradient magnitude is below tolerance\n"
     ]
    }
   ],
   "metadata": {
    "collapsed": true,
    "jupyter": {
     "outputs_hidden": true
    },
    "tags": []
   }
  },
  {
   "cell_type": "code",
   "execution_count": 9,
   "source": [
    "future = model.make_future_dataframe(periods=7)\n",
    "future['avg_prc'] = df['avg_prc']\n",
    "future['cap'] = 100\n",
    "future['floor'] = 0\n",
    "\n",
    "forecast = model.predict(future)"
   ],
   "outputs": [],
   "metadata": {}
  },
  {
   "cell_type": "code",
   "execution_count": 10,
   "source": [
    "fig = model.plot(forecast)"
   ],
   "outputs": [
    {
     "output_type": "display_data",
     "data": {
      "image/png": "[encoded data removed]",
      "text/plain": [
       "<Figure size 720x432 with 1 Axes>"
      ]
     },
     "metadata": {}
    }
   ],
   "metadata": {}
  },
  {
   "cell_type": "code",
   "execution_count": null,
   "source": [],
   "outputs": [],
   "metadata": {}
  }
 ],
 "metadata": {
  "kernelspec": {
   "display_name": "Python 3 (ipykernel)",
   "language": "python",
   "name": "python3"
  },
  "language_info": {
   "codemirror_mode": {
    "name": "ipython",
    "version": 3
   },
   "file_extension": ".py",
   "mimetype": "text/x-python",
   "name": "python",
   "nbconvert_exporter": "python",
   "pygments_lexer": "ipython3",
   "version": "3.7.11"
  }
 },
 "nbformat": 4,
 "nbformat_minor": 5
}